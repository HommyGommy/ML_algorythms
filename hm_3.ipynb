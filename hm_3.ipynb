{
 "cells": [
  {
   "cell_type": "code",
   "execution_count": 35,
   "metadata": {},
   "outputs": [],
   "source": [
    "import numpy as np\n",
    "import matplotlib.pyplot as plt\n",
    "\n",
    "from sklearn.preprocessing import MinMaxScaler\n",
    "from sklearn.linear_model import LinearRegression\n",
    "from sklearn.metrics import mean_squared_error\n",
    "\n",
    "import warnings\n",
    "warnings.filterwarnings(\"ignore\")"
   ]
  },
  {
   "cell_type": "code",
   "execution_count": 36,
   "metadata": {},
   "outputs": [],
   "source": [
    "X = np.array([[1, 1, 1, 1, 1, 1, 1, 1, 1, 1],\n",
    "              [1, 1, 2, 1, 3, 0, 5, 10, 1, 2],\n",
    "              [500, 700, 750, 600, 1450, 800, 1500, 2000, 450, 1000],\n",
    "              [1, 1, 2, 1, 2, 1, 3, 3, 1, 2]], dtype = np.float64)\n",
    "\n",
    "y = np.array([0, 0, 1, 0, 1, 0, 1, 0, 1, 1], dtype = np.float64)"
   ]
  },
  {
   "cell_type": "markdown",
   "metadata": {},
   "source": [
    "задание 1: Измените функцию calc_logloss так, чтобы нули по возможности не попадали в np.log."
   ]
  },
  {
   "cell_type": "code",
   "execution_count": 37,
   "metadata": {},
   "outputs": [],
   "source": [
    "def calc_logloss(y, y_pred):\n",
    "    exceptions = [-1,0,1]\n",
    "    err = - np.mean(y * np.log(y_pred) + (1.0 - y) * np.log(1.0 - y_pred))\n",
    "    for i in exceptions:\n",
    "        if i in y_pred - y:\n",
    "            y_pred = np.where([y_pred == 0]  , 0.99999, y_pred)\n",
    "            err = - np.mean(y * np.log(y_pred) + (1.0 - y) * np.log(1.0 - y_pred))\n",
    "            return err\n",
    "    return err"
   ]
  },
  {
   "cell_type": "code",
   "execution_count": 38,
   "metadata": {},
   "outputs": [
    {
     "data": {
      "text/plain": [
       "2.557997904877041"
      ]
     },
     "execution_count": 38,
     "metadata": {},
     "output_type": "execute_result"
    }
   ],
   "source": [
    "# Пример применения\n",
    "y1 = np.array([1, 0])\n",
    "y_pred1 = np.array([0.02, 0.7])\n",
    "calc_logloss(y1, y_pred1)"
   ]
  },
  {
   "cell_type": "code",
   "execution_count": 39,
   "metadata": {},
   "outputs": [],
   "source": [
    "def sigmoid(z):\n",
    "    res = 1 / (1 + np.exp(-z))\n",
    "    return res"
   ]
  },
  {
   "cell_type": "code",
   "execution_count": 40,
   "metadata": {},
   "outputs": [],
   "source": [
    "X_st = X.copy()"
   ]
  },
  {
   "cell_type": "markdown",
   "metadata": {},
   "source": [
    "задание 2: Подберите аргументы функции eval_model для логистической регрессии таким образом, чтобы log loss был минимальным."
   ]
  },
  {
   "cell_type": "code",
   "execution_count": null,
   "metadata": {},
   "outputs": [],
   "source": [
    "# немного не понял задачи - log loss выдает нам вектор весов, как его минимизировать\n",
    "# минимизация log_loss подразумевает минимизацию ошибки при оптимальном кол-ве итераций?"
   ]
  },
  {
   "cell_type": "code",
   "execution_count": 41,
   "metadata": {},
   "outputs": [],
   "source": [
    "def eval_model(X, y, iterations, alpha=1e-4):\n",
    "    np.random.seed(42)\n",
    "    W = np.random.randn(X.shape[0])\n",
    "    n = X.shape[1]\n",
    "    for i in range(1, iterations+1):\n",
    "        z = np.dot(W, X)\n",
    "        y_pred = sigmoid(z)\n",
    "        err = calc_logloss(y, y_pred)\n",
    "        W -= alpha * (1/n * np.dot((y_pred - y), X.T))\n",
    "#     if i % (iterations / 10) == 0:\n",
    "#         print(i, W, err)\n",
    "    return err"
   ]
  },
  {
   "cell_type": "code",
   "execution_count": 43,
   "metadata": {
    "scrolled": false
   },
   "outputs": [
    {
     "name": "stdout",
     "output_type": "stream",
     "text": [
      "5.756467732512389\n",
      "76.25045847673358\n",
      "5.042792352603376\n",
      "0.8478082963339114\n",
      "nan\n"
     ]
    }
   ],
   "source": [
    "grid = [(0.1, 1000), (1e-2, 1000), (1e-4, 1000), (1e-5, 1000), (1e-6, 1000)]\n",
    "\n",
    "for learning_rate, n_iterations in grid:\n",
    "    err = eval_model(X_st, y, iterations=n_iterations, alpha=learning_rate)\n",
    "    print(err)"
   ]
  },
  {
   "cell_type": "markdown",
   "metadata": {},
   "source": [
    "Оптимальное кол-во итераций = 1000 при скорости обучения 1e-5"
   ]
  },
  {
   "cell_type": "markdown",
   "metadata": {},
   "source": [
    "задание 3: Создайте функцию calc_pred_proba, возвращающую предсказанную вероятность класса 1 (на вход подаются W, который уже посчитан функцией eval_model и X, на выходе - массив y_pred_proba)."
   ]
  },
  {
   "cell_type": "code",
   "execution_count": 59,
   "metadata": {
    "scrolled": true
   },
   "outputs": [
    {
     "data": {
      "text/plain": [
       "array([0.45091443, 0.26368886, 0.53691502, 0.3516191 , 0.05229711,\n",
       "       0.21391627, 0.13439504, 0.00957292, 0.50262493, 0.29122261])"
      ]
     },
     "execution_count": 59,
     "metadata": {},
     "output_type": "execute_result"
    }
   ],
   "source": [
    "def eval_model(X, y, iterations, alpha=1e-4):   \n",
    "    \n",
    "    np.random.seed(42)\n",
    "    W = np.random.randn(X.shape[0])\n",
    "    n = X.shape[1]\n",
    "    weights_history, error_history = [W], []\n",
    "    \n",
    "    for i in range(1, iterations+1):\n",
    "        z = np.dot(W, X)\n",
    "        y_pred = sigmoid(z)\n",
    "        err = calc_logloss(y, y_pred)\n",
    "        W -= alpha * (1/n * np.dot((y_pred - y), X.T))\n",
    "        \n",
    "        error_history.append(err)\n",
    "        weights_history.append(W)\n",
    "#     if i % (iterations / 10) == 0:\n",
    "#         print(i, W, err)\n",
    "    return W\n",
    "\n",
    "def calc_pred_proba(W: np.array, X: np.array):\n",
    "    \"\"\"\n",
    "    \n",
    "    Input:\n",
    "    \n",
    "    W -> вектор весов, полученный в результате обучения модели лог. регрессии\n",
    "    X -> таблица объект-признак\n",
    "    \n",
    "    Output:\n",
    "    y_pred_proba -> предсказанная вероятность калсса 1\n",
    "    \n",
    "    \"\"\"\n",
    "    y_pred = np.dot(W, X)\n",
    "    y_pred_proba = sigmoid(y_pred)\n",
    "    return y_pred_proba\n",
    "\n",
    "calc_pred_proba(X_st.T, eval_model(X_st, y, iterations=1000, alpha=1e-5), )"
   ]
  },
  {
   "cell_type": "markdown",
   "metadata": {},
   "source": [
    "задание 4: Создайте функцию calc_pred, возвращающую предсказанный класс (на вход подаются W, который уже посчитан функцией eval_model и X, на выходе - массив y_pred)."
   ]
  },
  {
   "cell_type": "code",
   "execution_count": 69,
   "metadata": {},
   "outputs": [
    {
     "data": {
      "text/plain": [
       "array([0, 0, 1, 0, 0, 0, 0, 0, 1, 0])"
      ]
     },
     "execution_count": 69,
     "metadata": {},
     "output_type": "execute_result"
    }
   ],
   "source": [
    "def calc_pred(W: np.array, X: np.array):\n",
    "    \"\"\"    \n",
    "    Input:\n",
    "    \n",
    "    W -> вектор весов, полученный в результате обучения модели лог. регрессии\n",
    "    X -> таблица объект-признак\n",
    "    \n",
    "    Output:\n",
    "    y_pred -> предсказанный класс: 1 класс присваивается при вероятности >= 0.5; 0 при вероятности < 0.5\n",
    "    \n",
    "    \"\"\"\n",
    "    threshold = 0.5\n",
    "    y_pred = np.dot(W, X)\n",
    "    y_pred_proba = sigmoid(y_pred)\n",
    "    result = np.where(y_pred_proba >= threshold, 1, 0)\n",
    "    \n",
    "    return result\n",
    "\n",
    "calc_pred(X_st.T, eval_model(X_st, y, iterations=1000, alpha=1e-5))"
   ]
  },
  {
   "cell_type": "markdown",
   "metadata": {},
   "source": [
    "задание 5: Посчитайте Accuracy, матрицу ошибок, точность и полноту, а также F1 score."
   ]
  },
  {
   "cell_type": "code",
   "execution_count": 97,
   "metadata": {},
   "outputs": [
    {
     "data": {
      "text/plain": [
       "(2, 5, 0, 3)"
      ]
     },
     "execution_count": 97,
     "metadata": {},
     "output_type": "execute_result"
    }
   ],
   "source": [
    "def confusion_matrix(y_pred: np.array, y_true: np.array):\n",
    "    y_pred = calc_pred(X_st.T, eval_model(X_st, y, iterations=1000, alpha=1e-5))\n",
    "    y_true = y\n",
    "    n_pred = y_true.shape[0]\n",
    "\n",
    "    TP = 0\n",
    "    TN = 0\n",
    "    FP = 0\n",
    "    FN = 0\n",
    "    \n",
    "    for i in range(n_pred):\n",
    "        if y_true[i] == 1:            \n",
    "            if y_pred[i] == 1:\n",
    "                TP+=1\n",
    "            else: FN+=1\n",
    "        elif y_true[i] == 0:\n",
    "            if y_pred[i] == 0:\n",
    "                TN +=1\n",
    "            else: FP+=1\n",
    "        \n",
    "    return TP, TN, FP, FN\n",
    "\n",
    "y_pred = calc_pred(X_st.T, eval_model(X_st, y, iterations=1000, alpha=1e-5))\n",
    "confusion_matrix(y_pred, y)"
   ]
  },
  {
   "cell_type": "code",
   "execution_count": 104,
   "metadata": {},
   "outputs": [
    {
     "name": "stdout",
     "output_type": "stream",
     "text": [
      "accuracy = 0.70\n",
      "precision = 1.00\n",
      "recall = 0.40\n",
      "F1_score = 0.57\n"
     ]
    }
   ],
   "source": [
    "TP, TN, FP, FN = confusion_matrix(y_pred, y)\n",
    "accuracy = (TP + TN)/(TP + TN + FP + FN)\n",
    "precision = TP / (TP + FP)\n",
    "recall = TP / (TP + FN)\n",
    "F1_score = (2 * precision * recall) / (precision + recall)\n",
    "\n",
    "print(f'accuracy = {accuracy:.2f}')\n",
    "print(f'precision = {precision:.2f}')\n",
    "print(f'recall = {recall:.2f}')\n",
    "print(f'F1_score = {F1_score:.2f}')"
   ]
  },
  {
   "cell_type": "markdown",
   "metadata": {},
   "source": [
    "задание 6: Могла ли модель переобучиться? Почему?\n",
    "\n",
    "В наших данных целевая перемення распределена равномерна, так что моджель вроде не должна переобучаться\n",
    "Но для полноты высказывания нужно больше объектов и проверить модель на обучающей и тестовой выборках, чтобы потом использовать на валидационной"
   ]
  }
 ],
 "metadata": {
  "kernelspec": {
   "display_name": "Python 3",
   "language": "python",
   "name": "python3"
  },
  "language_info": {
   "codemirror_mode": {
    "name": "ipython",
    "version": 3
   },
   "file_extension": ".py",
   "mimetype": "text/x-python",
   "name": "python",
   "nbconvert_exporter": "python",
   "pygments_lexer": "ipython3",
   "version": "3.7.6"
  }
 },
 "nbformat": 4,
 "nbformat_minor": 4
}
